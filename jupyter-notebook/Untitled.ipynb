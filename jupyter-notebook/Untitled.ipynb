{
 "cells": [
  {
   "cell_type": "code",
   "execution_count": null,
   "id": "enabling-burton",
   "metadata": {},
   "outputs": [],
   "source": [
    "print('hi')"
   ]
  },
  {
   "cell_type": "code",
   "execution_count": 3,
   "id": "funded-tracker",
   "metadata": {},
   "outputs": [],
   "source": [
    "import pandas_datareader.data as web\n",
    "from datetime import datetime,date\n",
    "import pandas as pd\n",
    "import seaborn as sns"
   ]
  },
  {
   "cell_type": "code",
   "execution_count": 13,
   "id": "optional-british",
   "metadata": {},
   "outputs": [
    {
     "name": "stdout",
     "output_type": "stream",
     "text": [
      "shape of df1\n"
     ]
    },
    {
     "data": {
      "text/html": [
       "<div>\n",
       "<style scoped>\n",
       "    .dataframe tbody tr th:only-of-type {\n",
       "        vertical-align: middle;\n",
       "    }\n",
       "\n",
       "    .dataframe tbody tr th {\n",
       "        vertical-align: top;\n",
       "    }\n",
       "\n",
       "    .dataframe thead th {\n",
       "        text-align: right;\n",
       "    }\n",
       "</style>\n",
       "<table border=\"1\" class=\"dataframe\">\n",
       "  <thead>\n",
       "    <tr style=\"text-align: right;\">\n",
       "      <th></th>\n",
       "      <th>Date</th>\n",
       "      <th>Open</th>\n",
       "      <th>High</th>\n",
       "      <th>Low</th>\n",
       "      <th>Close</th>\n",
       "      <th>Volume</th>\n",
       "      <th>Volatile</th>\n",
       "      <th>ticker</th>\n",
       "    </tr>\n",
       "  </thead>\n",
       "  <tbody>\n",
       "    <tr>\n",
       "      <th>0</th>\n",
       "      <td>2021-03-25</td>\n",
       "      <td>8228</td>\n",
       "      <td>8245</td>\n",
       "      <td>8132</td>\n",
       "      <td>8157</td>\n",
       "      <td>6280200</td>\n",
       "      <td>113</td>\n",
       "      <td>7203.JP</td>\n",
       "    </tr>\n",
       "    <tr>\n",
       "      <th>1</th>\n",
       "      <td>2021-03-24</td>\n",
       "      <td>8245</td>\n",
       "      <td>8305</td>\n",
       "      <td>8113</td>\n",
       "      <td>8120</td>\n",
       "      <td>7527400</td>\n",
       "      <td>192</td>\n",
       "      <td>7203.JP</td>\n",
       "    </tr>\n",
       "    <tr>\n",
       "      <th>2</th>\n",
       "      <td>2021-03-23</td>\n",
       "      <td>8407</td>\n",
       "      <td>8469</td>\n",
       "      <td>8304</td>\n",
       "      <td>8304</td>\n",
       "      <td>6071300</td>\n",
       "      <td>165</td>\n",
       "      <td>7203.JP</td>\n",
       "    </tr>\n",
       "    <tr>\n",
       "      <th>3</th>\n",
       "      <td>2021-03-22</td>\n",
       "      <td>8553</td>\n",
       "      <td>8560</td>\n",
       "      <td>8362</td>\n",
       "      <td>8362</td>\n",
       "      <td>8722800</td>\n",
       "      <td>198</td>\n",
       "      <td>7203.JP</td>\n",
       "    </tr>\n",
       "    <tr>\n",
       "      <th>4</th>\n",
       "      <td>2021-03-19</td>\n",
       "      <td>8645</td>\n",
       "      <td>8712</td>\n",
       "      <td>8608</td>\n",
       "      <td>8644</td>\n",
       "      <td>9905500</td>\n",
       "      <td>104</td>\n",
       "      <td>7203.JP</td>\n",
       "    </tr>\n",
       "  </tbody>\n",
       "</table>\n",
       "</div>"
      ],
      "text/plain": [
       "        Date  Open  High   Low  Close   Volume  Volatile   ticker\n",
       "0 2021-03-25  8228  8245  8132   8157  6280200       113  7203.JP\n",
       "1 2021-03-24  8245  8305  8113   8120  7527400       192  7203.JP\n",
       "2 2021-03-23  8407  8469  8304   8304  6071300       165  7203.JP\n",
       "3 2021-03-22  8553  8560  8362   8362  8722800       198  7203.JP\n",
       "4 2021-03-19  8645  8712  8608   8644  9905500       104  7203.JP"
      ]
     },
     "execution_count": 13,
     "metadata": {},
     "output_type": "execute_result"
    }
   ],
   "source": [
    "start = datetime(2021,3,1)\n",
    "end = date.today()\n",
    "\n",
    "toyota_stock = web.DataReader('7203.JP', 'stooq', start, end).reset_index()#.TOYOTA\n",
    "toyota_df=pd.DataFrame(toyota_stock)\n",
    "\n",
    "toyota_df['Volatile']=toyota_df['High']-toyota_df['Low']\n",
    "toyota_df['ticker'] = '7203.JP'\n",
    "print(\"shape of df1\")\n",
    "toyota_df.head()\n",
    "\n",
    "\n",
    "\n"
   ]
  },
  {
   "cell_type": "code",
   "execution_count": 14,
   "id": "blond-prototype",
   "metadata": {},
   "outputs": [
    {
     "data": {
      "text/plain": [
       "Index(['Date', 'Open', 'High', 'Low', 'Close', 'Volume', 'Volatile', 'ticker'], dtype='object')"
      ]
     },
     "execution_count": 14,
     "metadata": {},
     "output_type": "execute_result"
    }
   ],
   "source": [
    "toyota_df.describe()\n",
    "\n",
    "toyota_df.columns"
   ]
  },
  {
   "cell_type": "code",
   "execution_count": 17,
   "id": "clear-translation",
   "metadata": {},
   "outputs": [
    {
     "data": {
      "text/plain": [
       "0    2021-03-25\n",
       "1    2021-03-24\n",
       "2    2021-03-23\n",
       "3    2021-03-22\n",
       "4    2021-03-19\n",
       "5    2021-03-18\n",
       "6    2021-03-17\n",
       "7    2021-03-16\n",
       "8    2021-03-15\n",
       "9    2021-03-12\n",
       "10   2021-03-11\n",
       "11   2021-03-10\n",
       "12   2021-03-09\n",
       "13   2021-03-08\n",
       "14   2021-03-05\n",
       "15   2021-03-04\n",
       "16   2021-03-03\n",
       "17   2021-03-02\n",
       "18   2021-03-01\n",
       "Name: Date, dtype: datetime64[ns]"
      ]
     },
     "execution_count": 17,
     "metadata": {},
     "output_type": "execute_result"
    }
   ],
   "source": [
    "toyota_df['Date']"
   ]
  },
  {
   "cell_type": "code",
   "execution_count": null,
   "id": "regional-glass",
   "metadata": {},
   "outputs": [],
   "source": [
    "\n",
    "sb_stock = web.DataReader('9984.JP', 'stooq', start, end).reset_index()#.TOYOTA\n",
    "sb_df=pd.DataFrame(sb_stock)\n",
    "sb_df['Volatile']=sb_df['High']-sb_df['Low']\n",
    "sb_df['ticker'] = '9984.JP'\n",
    "print(\"shape of df1\")\n",
    "print(sb_df.shape)\n",
    "\n",
    "price_df = pd.concat([toyota_df,sb_df])"
   ]
  },
  {
   "cell_type": "code",
   "execution_count": null,
   "id": "theoretical-editing",
   "metadata": {},
   "outputs": [],
   "source": [
    "print(price_df.shape)\n",
    "print(price_df['High'])\n",
    "\n",
    "print(price_df.columns())\n",
    "\n",
    "#price_df.describe()"
   ]
  },
  {
   "cell_type": "code",
   "execution_count": 15,
   "id": "fundamental-investigator",
   "metadata": {},
   "outputs": [
    {
     "data": {
      "image/png": "[encoded data removed]",
      "text/plain": [
       "<Figure size 432x288 with 1 Axes>"
      ]
     },
     "metadata": {
      "needs_background": "light"
     },
     "output_type": "display_data"
    }
   ],
   "source": [
    "g=sns.lineplot(x=\"Date\", y=\"Open\", data=toyota_df)\n",
    "g.dashes=False\n",
    "g.markers=True"
   ]
  },
  {
   "cell_type": "code",
   "execution_count": 24,
   "id": "external-corps",
   "metadata": {},
   "outputs": [],
   "source": [
    "import datetime\n",
    "delta = datetime.timedelta(days=3)"
   ]
  },
  {
   "cell_type": "code",
   "execution_count": null,
   "id": "noticed-broad",
   "metadata": {},
   "outputs": [],
   "source": []
  }
 ],
 "metadata": {
  "kernelspec": {
   "display_name": "Python 3",
   "language": "python",
   "name": "python3"
  },
  "language_info": {
   "codemirror_mode": {
    "name": "ipython",
    "version": 3
   },
   "file_extension": ".py",
   "mimetype": "text/x-python",
   "name": "python",
   "nbconvert_exporter": "python",
   "pygments_lexer": "ipython3",
   "version": "3.8.5"
  }
 },
 "nbformat": 4,
 "nbformat_minor": 5
}
