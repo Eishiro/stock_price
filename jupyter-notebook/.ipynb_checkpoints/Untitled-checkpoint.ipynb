{
 "cells": [
  {
   "cell_type": "code",
   "execution_count": null,
   "id": "enabling-burton",
   "metadata": {},
   "outputs": [],
   "source": [
    "print('hi')"
   ]
  },
  {
   "cell_type": "code",
   "execution_count": null,
   "id": "funded-tracker",
   "metadata": {},
   "outputs": [],
   "source": [
    "import pandas_datareader.data as web\n",
    "from datetime import datetime,date\n",
    "import pandas as pd\n",
    "import seaborn as sns"
   ]
  },
  {
   "cell_type": "code",
   "execution_count": 2,
   "id": "optional-british",
   "metadata": {},
   "outputs": [
    {
     "ename": "NameError",
     "evalue": "name 'datetime' is not defined",
     "output_type": "error",
     "traceback": [
      "\u001b[0;31m---------------------------------------------------------------------------\u001b[0m",
      "\u001b[0;31mNameError\u001b[0m                                 Traceback (most recent call last)",
      "\u001b[0;32m<ipython-input-2-137002fddf94>\u001b[0m in \u001b[0;36m<module>\u001b[0;34m\u001b[0m\n\u001b[0;32m----> 1\u001b[0;31m \u001b[0mstart\u001b[0m \u001b[0;34m=\u001b[0m \u001b[0mdatetime\u001b[0m\u001b[0;34m(\u001b[0m\u001b[0;36m2021\u001b[0m\u001b[0;34m,\u001b[0m\u001b[0;36m3\u001b[0m\u001b[0;34m,\u001b[0m\u001b[0;36m1\u001b[0m\u001b[0;34m)\u001b[0m\u001b[0;34m\u001b[0m\u001b[0;34m\u001b[0m\u001b[0m\n\u001b[0m\u001b[1;32m      2\u001b[0m \u001b[0mend\u001b[0m \u001b[0;34m=\u001b[0m \u001b[0mdate\u001b[0m\u001b[0;34m.\u001b[0m\u001b[0mtoday\u001b[0m\u001b[0;34m(\u001b[0m\u001b[0;34m)\u001b[0m\u001b[0;34m\u001b[0m\u001b[0;34m\u001b[0m\u001b[0m\n\u001b[1;32m      3\u001b[0m \u001b[0;34m\u001b[0m\u001b[0m\n\u001b[1;32m      4\u001b[0m \u001b[0mtoyota_stock\u001b[0m \u001b[0;34m=\u001b[0m \u001b[0mweb\u001b[0m\u001b[0;34m.\u001b[0m\u001b[0mDataReader\u001b[0m\u001b[0;34m(\u001b[0m\u001b[0;34m'7203.JP'\u001b[0m\u001b[0;34m,\u001b[0m \u001b[0;34m'stooq'\u001b[0m\u001b[0;34m,\u001b[0m \u001b[0mstart\u001b[0m\u001b[0;34m,\u001b[0m \u001b[0mend\u001b[0m\u001b[0;34m)\u001b[0m\u001b[0;34m.\u001b[0m\u001b[0mreset_index\u001b[0m\u001b[0;34m(\u001b[0m\u001b[0;34m)\u001b[0m\u001b[0;31m#.TOYOTA\u001b[0m\u001b[0;34m\u001b[0m\u001b[0;34m\u001b[0m\u001b[0m\n\u001b[1;32m      5\u001b[0m \u001b[0mtoyota_df\u001b[0m\u001b[0;34m=\u001b[0m\u001b[0mpd\u001b[0m\u001b[0;34m.\u001b[0m\u001b[0mDataFrame\u001b[0m\u001b[0;34m(\u001b[0m\u001b[0mtoyota_stock\u001b[0m\u001b[0;34m)\u001b[0m\u001b[0;34m\u001b[0m\u001b[0;34m\u001b[0m\u001b[0m\n",
      "\u001b[0;31mNameError\u001b[0m: name 'datetime' is not defined"
     ]
    }
   ],
   "source": [
    "start = datetime(2021,3,1)\n",
    "end = date.today()\n",
    "\n",
    "toyota_stock = web.DataReader('7203.JP', 'stooq', start, end).reset_index()#.TOYOTA\n",
    "toyota_df=pd.DataFrame(toyota_stock)\n",
    "\n",
    "toyota_df['Volatile']=toyota_df['High']-toyota_df['Low']\n",
    "toyota_df['ticker'] = '7203.JP'\n",
    "print(\"shape of df1\")\n",
    "print(toyota_df.head())\n",
    "\n",
    "print(toyota_df.shape)\n",
    "\n",
    "\n",
    "print(price_df.columns())"
   ]
  },
  {
   "cell_type": "code",
   "execution_count": null,
   "id": "identical-tongue",
   "metadata": {},
   "outputs": [],
   "source": [
    "\n",
    "sb_stock = web.DataReader('9984.JP', 'stooq', start, end).reset_index()#.TOYOTA\n",
    "sb_df=pd.DataFrame(sb_stock)\n",
    "sb_df['Volatile']=sb_df['High']-sb_df['Low']\n",
    "sb_df['ticker'] = '9984.JP'\n",
    "print(\"shape of df1\")\n",
    "print(sb_df.shape)\n",
    "\n",
    "price_df = pd.concat([toyota_df,sb_df])"
   ]
  },
  {
   "cell_type": "code",
   "execution_count": null,
   "id": "awful-undergraduate",
   "metadata": {},
   "outputs": [],
   "source": [
    "print(price_df.shape)\n",
    "print(price_df['High'])\n",
    "\n",
    "print(price_df.columns())\n",
    "\n",
    "#price_df.describe()"
   ]
  },
  {
   "cell_type": "code",
   "execution_count": null,
   "id": "recreational-forty",
   "metadata": {},
   "outputs": [],
   "source": [
    "g=sns.lineplot(x=\"Date\", y=\"Open\", data=price_df,hue=\"ticker\")\n",
    "g.dashes=False\n",
    "g.markers=True"
   ]
  },
  {
   "cell_type": "code",
   "execution_count": null,
   "id": "chemical-runner",
   "metadata": {},
   "outputs": [],
   "source": []
  }
 ],
 "metadata": {
  "kernelspec": {
   "display_name": "Python 3",
   "language": "python",
   "name": "python3"
  },
  "language_info": {
   "codemirror_mode": {
    "name": "ipython",
    "version": 3
   },
   "file_extension": ".py",
   "mimetype": "text/x-python",
   "name": "python",
   "nbconvert_exporter": "python",
   "pygments_lexer": "ipython3",
   "version": "3.8.5"
  }
 },
 "nbformat": 4,
 "nbformat_minor": 5
}
